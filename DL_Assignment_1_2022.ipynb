{
 "cells": [
  {
   "cell_type": "markdown",
   "metadata": {
    "id": "SE6qcw_j8Pi2"
   },
   "source": [
    "In this exercise, you are requested to implement a Neural Network with backpropogation using only *numpy*.\n",
    "\n",
    "Notice:\n",
    "- All activation functions in this network are Sigmoid\n",
    "- The output of the network is one single value\n",
    "\n",
    "### Created by Omer Keren & Alon Albahari"
   ]
  },
  {
   "cell_type": "code",
   "execution_count": 97,
   "metadata": {
    "id": "UV4RvXYL8k85"
   },
   "outputs": [],
   "source": [
    "import numpy as np"
   ]
  },
  {
   "cell_type": "code",
   "execution_count": 98,
   "metadata": {
    "id": "kLdNoCt58qg5"
   },
   "outputs": [],
   "source": [
    "class MyNN:\n",
    "    def __init__(self, learning_rate, layer_sizes):\n",
    "        '''\n",
    "        learning_rate - remember etta from class? this is it!\n",
    "        layer_sizes - a simple list of numbers - where each number is the size of each layer - i.e. the\n",
    "                        number of neurons in the layer. So the length of this list is the number of layers\n",
    "                        in our neural network\n",
    "        model_param - a dictionary that will store the parameters/variables - such as weights and biases\n",
    "        '''\n",
    "        self.learning_rate = learning_rate\n",
    "        self.layer_sizes = layer_sizes\n",
    "        self.model_params = {}\n",
    "        self.memory = {}\n",
    "        self.grads = {}\n",
    "\n",
    "        # Initializing weights with random values\n",
    "        for layer_index in range(len(layer_sizes) - 1):\n",
    "            W_input = layer_sizes[layer_index + 1]\n",
    "            W_output = layer_sizes[layer_index]\n",
    "            self.model_params['W_' + str(layer_index + 1)] = np.random.randn(W_input, W_output) * 0.1\n",
    "            self.model_params['b_' + str(layer_index + 1)] = np.random.randn(W_input) * 0.1\n",
    "\n",
    "    # this function performs forward step (over all network elements) for a single data item/instance \n",
    "    def forward_single_instance(self, x):    \n",
    "        a_i_1 = x\n",
    "        self.memory['a_0'] = x\n",
    "        for layer_index in range(len(self.layer_sizes) - 1):\n",
    "            W_i = self.model_params['W_' + str(layer_index + 1)]\n",
    "            b_i = self.model_params['b_' + str(layer_index + 1)]\n",
    "            z_i = np.dot(W_i, a_i_1) + b_i\n",
    "            a_i = 1/(1+np.exp(-z_i))\n",
    "            self.memory['a_' + str(layer_index + 1)] = a_i\n",
    "            a_i_1 = a_i\n",
    "        return a_i_1\n",
    "  \n",
    "    # a sample loss function\n",
    "    def log_loss(y_hat, y):\n",
    "        '''\n",
    "        Logistic loss, assuming a single value in y_hat and y.\n",
    "        '''\n",
    "        m = y_hat[0]\n",
    "        cost = -y[0]*np.log(y_hat[0]) - (1 - y[0])*np.log(1 - y_hat[0])\n",
    "        return cost\n",
    "  \n",
    "  \n",
    "  #this function performs a backpropogation for a single data item/instance\n",
    "    def backward_single_instance(self, y):\n",
    "        a_output = self.memory['a_' + str(len(self.layer_sizes) - 1)]\n",
    "        dz = a_output - y\n",
    "\n",
    "        for layer_index in range(len(self.layer_sizes) - 1, 0, -1):\n",
    "            print(layer_index)\n",
    "            # means activations functions for each position in the network\n",
    "            a_l_1 = self.memory['a_' + str(layer_index - 1)]\n",
    "            # error of prediction * res\n",
    "            dW = np.dot(dz.reshape(-1, 1), a_l_1.reshape(1, -1))\n",
    "            self.grads['dW_' + str(layer_index)] = dW\n",
    "            # current wieght\n",
    "            W_l = self.model_params['W_' + str(layer_index)]\n",
    "            # current bias\n",
    "            db = dz\n",
    "            self.grads['db_' + str(layer_index)] = db\n",
    "            dz = (a_l_1 * (1 - a_l_1)).reshape(-1, 1) * np.dot(W_l.T, dz.reshape(-1, 1))\n",
    "\n",
    "    def update(self):\n",
    "        for layer_index in range(len(self.layer_sizes) - 1, 0, -1):\n",
    "            # names of key objects\n",
    "            Wi = 'W_' + str(layer_index)\n",
    "            bi = 'b_' + str(layer_index)\n",
    "            dWi = 'dW_' + str(layer_index)\n",
    "            dbi = 'db_' + str(layer_index)\n",
    "            \n",
    "            W_i = self.model_params[Wi]\n",
    "            b_i = self.model_params[bi]\n",
    "            dW_i = self.grads[dWi]\n",
    "            db_i = self.grads[dbi]\n",
    "            \n",
    "            self.model_params[Wi] = W_i - self.learning_rate * dW_i\n",
    "            self.model_params[bi] = b_i - self.learning_rate * db_i\n",
    "\n",
    " \n",
    "      #def forward_batch(self, X)\n",
    "    def forward_batch(self, x):    \n",
    "        a_i_1 = x\n",
    "        self.memory['a_0'] = x\n",
    "        for layer_index in range(len(self.layer_sizes) - 1):\n",
    "            W_i = self.model_params['W_' + str(layer_index + 1)]\n",
    "            b_i = self.model_params['b_' + str(layer_index + 1)]\n",
    "            z_i = np.dot(W_i, a_i_1) + b_i.reshape(-1,1)\n",
    "            a_i = 1/(1+np.exp(-z_i))\n",
    "            self.memory['a_' + str(layer_index + 1)] = a_i\n",
    "            a_i_1 = a_i\n",
    "        return a_i_1\n",
    "            \n",
    "\n",
    "      # TODO: implement backward for a batch y.shape = (1, number_of_instance)\n",
    "      #def backward_batch(self, y)\n",
    "    def backward_batch(self, y):\n",
    "        m = y.shape[1]\n",
    "        a_output = self.memory['a_' + str(len(self.layer_sizes) - 1)]\n",
    "        dz = a_output - y\n",
    "        \n",
    "        for layer_index in range(len(self.layer_sizes) - 1, 0, -1):\n",
    "            # means activations functions for each position in the network\n",
    "            a_l_1 = self.memory['a_' + str(layer_index - 1)]\n",
    "\n",
    "            # error of prediction * res\n",
    "            dW = (np.dot(dz, a_l_1.T)) / m\n",
    "            self.grads['dW_' + str(layer_index)] = dW\n",
    "\n",
    "            # current wieght\n",
    "            W_l = self.model_params['W_' + str(layer_index)]\n",
    "\n",
    "            # (activations vector devrsion) * (current wieght)\n",
    "            tmp = dz\n",
    "            self.memory['dz_' + str(layer_index)] = dz\n",
    "\n",
    "            # current bias\n",
    "            b_l = self.model_params['b_' + str(layer_index)]\n",
    "\n",
    "            # (activations vector devrsion) * (current bias)\n",
    "            db = np.sum(dz) / m\n",
    "            self.grads['db_' + str(layer_index)] = db\n",
    "            dz = (a_l_1 * (1 - a_l_1)) * np.dot(W_l.T, tmp)\n",
    "\n",
    "            \n",
    "\n",
    "      # TODO: implement log_loss_batch, for a batch of instances\n",
    "      # def log_loss(self, y_hat, y)\n",
    "    def log_loss_batch(self, y_hat, y):\n",
    "        m = y_hat.shape[1]\n",
    "        cost = 1/m * (-np.dot(y,np.log(y_hat).T) - np.dot(1-y,np.log(1-y_hat).T))\n",
    "        return cost\n",
    "        \n",
    "        "
   ]
  },
  {
   "cell_type": "markdown",
   "metadata": {
    "id": "SRml6glFIPCa"
   },
   "source": [
    "The next class will cover the neural network. We will focus on what we learned in class - A feed forward network having multiple layers.\n",
    "The class already has methods for forward and backward runs of a single instance of data (single row in a dataset). You have to implement each code that has \"TODO\" in it."
   ]
  },
  {
   "cell_type": "code",
   "execution_count": 99,
   "metadata": {
    "id": "Qib6W4QXO644"
   },
   "outputs": [],
   "source": [
    "nn = MyNN(0.01, [3, 2, 1])"
   ]
  },
  {
   "cell_type": "code",
   "execution_count": 100,
   "metadata": {
    "colab": {
     "base_uri": "https://localhost:8080/",
     "height": 102
    },
    "id": "4nQR8QllPf_5",
    "outputId": "c63240fd-e28e-41e4-f7f2-7263675c01b7"
   },
   "outputs": [
    {
     "data": {
      "text/plain": [
       "{'W_1': array([[-0.00183457, -0.00417865, -0.04180828],\n",
       "        [ 0.08847231,  0.07212246,  0.11498373]]),\n",
       " 'b_1': array([ 0.13839357, -0.00715556]),\n",
       " 'W_2': array([[-0.10545561, -0.00624427]]),\n",
       " 'b_2': array([-0.11271583])}"
      ]
     },
     "execution_count": 100,
     "metadata": {},
     "output_type": "execute_result"
    }
   ],
   "source": [
    "nn.model_params"
   ]
  },
  {
   "cell_type": "code",
   "execution_count": 101,
   "metadata": {
    "colab": {
     "base_uri": "https://localhost:8080/",
     "height": 34
    },
    "id": "VXiyn-yrPC6-",
    "outputId": "4de9d376-b761-40db-eb08-271ea57ff0e1"
   },
   "outputs": [
    {
     "name": "stdout",
     "output_type": "stream",
     "text": [
      "[0.45695926]\n"
     ]
    }
   ],
   "source": [
    "x = np.random.randn(3)\n",
    "y = np.random.randn(1)\n",
    "\n",
    "y_hat = nn.forward_single_instance(x)\n",
    "print(y_hat)"
   ]
  },
  {
   "cell_type": "code",
   "execution_count": 102,
   "metadata": {
    "colab": {
     "base_uri": "https://localhost:8080/",
     "height": 102
    },
    "id": "k5M50i3plclj",
    "outputId": "aff5d3ea-d5ee-47eb-9db9-65cda7e5b4b4"
   },
   "outputs": [
    {
     "name": "stdout",
     "output_type": "stream",
     "text": [
      "2\n",
      "1\n"
     ]
    }
   ],
   "source": [
    "nn.backward_single_instance(y)"
   ]
  },
  {
   "cell_type": "code",
   "execution_count": 103,
   "metadata": {
    "id": "CWnZB1YmYnIt"
   },
   "outputs": [],
   "source": [
    "# A train function for training the neural network\n",
    "def train(X, y, epochs, batch_size):\n",
    "    lossHistory = np.zeros((epochs,1))\n",
    "    for e in range(1, epochs + 1):\n",
    "        epoch_loss = 0\n",
    "        # shuffle\n",
    "        shuffler = np.random.permutation(X.shape[1])\n",
    "        X = X[:,shuffler]\n",
    "        y = y[:,shuffler]\n",
    "        # divide to batches\n",
    "        X = X[:,0:(X.shape[1]//batch_size)*batch_size]\n",
    "        y = y[:,0:(y.shape[1]//batch_size)*batch_size]\n",
    "        batches = np.array(list(zip(np.split(X,X.shape[1]//batch_size,axis=1),np.split(y,y.shape[1]//batch_size,axis=1)))) \n",
    "\n",
    "        for X_b, y_b in batches:\n",
    "            #print(X_b)\n",
    "            #print(y_b)\n",
    "            y_hat = nn.forward_batch(X_b)\n",
    "            epoch_loss += nn.log_loss_batch(y_hat, y_b)\n",
    "            nn.backward_batch(y_b)\n",
    "            nn.update()\n",
    "            lossHistory[e-1] = epoch_loss/len(batches)\n",
    "\n",
    "        print(f'Epoch {e}, loss={epoch_loss/len(batches)}')\n",
    "    return lossHistory\n",
    "\n"
   ]
  },
  {
   "cell_type": "code",
   "execution_count": 104,
   "metadata": {
    "id": "cE1ydWlatkty",
    "scrolled": false
   },
   "outputs": [
    {
     "name": "stdout",
     "output_type": "stream",
     "text": [
      "Epoch 1, loss=[[0.73440766]]\n",
      "Epoch 2, loss=[[0.73090487]]\n"
     ]
    },
    {
     "name": "stderr",
     "output_type": "stream",
     "text": [
      "<ipython-input-103-3e21d7ec8c41>:13: VisibleDeprecationWarning: Creating an ndarray from ragged nested sequences (which is a list-or-tuple of lists-or-tuples-or ndarrays with different lengths or shapes) is deprecated. If you meant to do this, you must specify 'dtype=object' when creating the ndarray.\n",
      "  batches = np.array(list(zip(np.split(X,X.shape[1]//batch_size,axis=1),np.split(y,y.shape[1]//batch_size,axis=1))))\n"
     ]
    },
    {
     "data": {
      "text/plain": [
       "array([[0.73440766],\n",
       "       [0.73090487]])"
      ]
     },
     "execution_count": 104,
     "metadata": {},
     "output_type": "execute_result"
    }
   ],
   "source": [
    "# TODO: Make sure the following network trains properly\n",
    "\n",
    "nn = MyNN(0.001, [6, 4, 3, 1])\n",
    "\n",
    "X = np.random.randn(6, 100)\n",
    "y = np.random.randn(1, 100)\n",
    "batch_size = 8\n",
    "epochs = 2\n",
    "\n",
    "train(X, y, epochs, batch_size)"
   ]
  },
  {
   "cell_type": "markdown",
   "metadata": {
    "id": "6dY4scUksulC"
   },
   "source": [
    "#TODO: train on an external dataset\n",
    "\n",
    "Train on the Bike Sharing dataset, using day.csv file from https://archive.ics.uci.edu/ml/machine-learning-databases/00275/.\n",
    "Use the following features from the data:\n",
    "\n",
    "* temp\n",
    "* atemp\n",
    "* hum\n",
    "* windspeed\n",
    "* weekday\n",
    "\n",
    "The response variable is as the following:\n",
    "    raw[\"success\"] = raw[\"cnt\"] > (raw[\"cnt\"].describe()[\"mean\"]).\n",
    "\n",
    "The architecture of the network should be: [5, 40, 30, 10, 7, 5, 3, 1].\n",
    "\n",
    "Use batch_size=8, and train it for 100 epochs on the train set (based on the split as requested above).\n",
    "\n",
    "Then, plot loss per epoch."
   ]
  },
  {
   "cell_type": "code",
   "execution_count": 118,
   "metadata": {
    "id": "3Y0GvPArZear"
   },
   "outputs": [
    {
     "name": "stderr",
     "output_type": "stream",
     "text": [
      "<ipython-input-103-3e21d7ec8c41>:13: VisibleDeprecationWarning: Creating an ndarray from ragged nested sequences (which is a list-or-tuple of lists-or-tuples-or ndarrays with different lengths or shapes) is deprecated. If you meant to do this, you must specify 'dtype=object' when creating the ndarray.\n",
      "  batches = np.array(list(zip(np.split(X,X.shape[1]//batch_size,axis=1),np.split(y,y.shape[1]//batch_size,axis=1))))\n"
     ]
    },
    {
     "name": "stdout",
     "output_type": "stream",
     "text": [
      "Epoch 1, loss=[[0.6958921]]\n",
      "Epoch 2, loss=[[0.69567163]]\n",
      "Epoch 3, loss=[[0.69546472]]\n",
      "Epoch 4, loss=[[0.69529203]]\n",
      "Epoch 5, loss=[[0.69510478]]\n",
      "Epoch 6, loss=[[0.69494988]]\n",
      "Epoch 7, loss=[[0.69480605]]\n",
      "Epoch 8, loss=[[0.69467503]]\n",
      "Epoch 9, loss=[[0.69453867]]\n",
      "Epoch 10, loss=[[0.69443459]]\n",
      "Epoch 11, loss=[[0.69432395]]\n",
      "Epoch 12, loss=[[0.69421709]]\n",
      "Epoch 13, loss=[[0.69413803]]\n",
      "Epoch 14, loss=[[0.69405071]]\n",
      "Epoch 15, loss=[[0.69397814]]\n",
      "Epoch 16, loss=[[0.69390298]]\n",
      "Epoch 17, loss=[[0.69383327]]\n",
      "Epoch 18, loss=[[0.69377672]]\n",
      "Epoch 19, loss=[[0.69371711]]\n",
      "Epoch 20, loss=[[0.69366466]]\n",
      "Epoch 21, loss=[[0.69361533]]\n",
      "Epoch 22, loss=[[0.69356821]]\n",
      "Epoch 23, loss=[[0.69353557]]\n",
      "Epoch 24, loss=[[0.69349081]]\n",
      "Epoch 25, loss=[[0.69345619]]\n",
      "Epoch 26, loss=[[0.69342644]]\n",
      "Epoch 27, loss=[[0.69340263]]\n",
      "Epoch 28, loss=[[0.69336849]]\n",
      "Epoch 29, loss=[[0.69334329]]\n",
      "Epoch 30, loss=[[0.69331705]]\n",
      "Epoch 31, loss=[[0.69329908]]\n",
      "Epoch 32, loss=[[0.69328235]]\n",
      "Epoch 33, loss=[[0.69325619]]\n",
      "Epoch 34, loss=[[0.69324138]]\n",
      "Epoch 35, loss=[[0.69322928]]\n",
      "Epoch 36, loss=[[0.69321216]]\n",
      "Epoch 37, loss=[[0.69319434]]\n",
      "Epoch 38, loss=[[0.69318294]]\n",
      "Epoch 39, loss=[[0.69317755]]\n",
      "Epoch 40, loss=[[0.69316253]]\n",
      "Epoch 41, loss=[[0.69315616]]\n",
      "Epoch 42, loss=[[0.69314912]]\n",
      "Epoch 43, loss=[[0.69313699]]\n",
      "Epoch 44, loss=[[0.69312816]]\n",
      "Epoch 45, loss=[[0.69312654]]\n",
      "Epoch 46, loss=[[0.69311533]]\n",
      "Epoch 47, loss=[[0.69311519]]\n",
      "Epoch 48, loss=[[0.69310897]]\n",
      "Epoch 49, loss=[[0.69310554]]\n",
      "Epoch 50, loss=[[0.69309859]]\n",
      "Epoch 51, loss=[[0.69308928]]\n",
      "Epoch 52, loss=[[0.69308773]]\n",
      "Epoch 53, loss=[[0.69308328]]\n",
      "Epoch 54, loss=[[0.69308198]]\n",
      "Epoch 55, loss=[[0.69307564]]\n",
      "Epoch 56, loss=[[0.69307884]]\n",
      "Epoch 57, loss=[[0.69306509]]\n",
      "Epoch 58, loss=[[0.69306447]]\n",
      "Epoch 59, loss=[[0.69307216]]\n",
      "Epoch 60, loss=[[0.69305864]]\n",
      "Epoch 61, loss=[[0.69305951]]\n",
      "Epoch 62, loss=[[0.69305344]]\n",
      "Epoch 63, loss=[[0.69305567]]\n",
      "Epoch 64, loss=[[0.69306396]]\n",
      "Epoch 65, loss=[[0.69305661]]\n",
      "Epoch 66, loss=[[0.69305073]]\n",
      "Epoch 67, loss=[[0.69305455]]\n",
      "Epoch 68, loss=[[0.69304843]]\n",
      "Epoch 69, loss=[[0.69305284]]\n",
      "Epoch 70, loss=[[0.69304531]]\n",
      "Epoch 71, loss=[[0.69305279]]\n",
      "Epoch 72, loss=[[0.69304765]]\n",
      "Epoch 73, loss=[[0.69304972]]\n",
      "Epoch 74, loss=[[0.69304825]]\n",
      "Epoch 75, loss=[[0.69305603]]\n",
      "Epoch 76, loss=[[0.69304971]]\n",
      "Epoch 77, loss=[[0.69303999]]\n",
      "Epoch 78, loss=[[0.69304407]]\n",
      "Epoch 79, loss=[[0.69305039]]\n",
      "Epoch 80, loss=[[0.69304042]]\n",
      "Epoch 81, loss=[[0.69304046]]\n",
      "Epoch 82, loss=[[0.69304006]]\n",
      "Epoch 83, loss=[[0.69304366]]\n",
      "Epoch 84, loss=[[0.69304089]]\n",
      "Epoch 85, loss=[[0.69304378]]\n",
      "Epoch 86, loss=[[0.69305072]]\n",
      "Epoch 87, loss=[[0.69304693]]\n",
      "Epoch 88, loss=[[0.69304127]]\n",
      "Epoch 89, loss=[[0.69303516]]\n",
      "Epoch 90, loss=[[0.6930411]]\n",
      "Epoch 91, loss=[[0.69303442]]\n",
      "Epoch 92, loss=[[0.69303907]]\n",
      "Epoch 93, loss=[[0.69304228]]\n",
      "Epoch 94, loss=[[0.69304456]]\n",
      "Epoch 95, loss=[[0.69304178]]\n",
      "Epoch 96, loss=[[0.69304267]]\n",
      "Epoch 97, loss=[[0.69303906]]\n",
      "Epoch 98, loss=[[0.69304288]]\n",
      "Epoch 99, loss=[[0.6930435]]\n",
      "Epoch 100, loss=[[0.69303162]]\n"
     ]
    }
   ],
   "source": [
    "import pandas as pd\n",
    "import matplotlib.pyplot as plt\n",
    "\n",
    "\n",
    "raw = pd.read_csv('day.csv')\n",
    "raw[\"success\"] = raw[\"cnt\"] > (raw[\"cnt\"].describe()[\"mean\"])\n",
    "\n",
    "X = raw[['temp', 'atemp', 'hum', 'windspeed', 'weekday']].values\n",
    "y = raw[\"success\"].values\n",
    "\n",
    "nn = MyNN(0.001, [5, 40, 30, 10, 7, 5, 3, 1])\n",
    "batch_size = 8\n",
    "epochs = 100\n",
    "\n",
    "loss = train(X.T, y.reshape(1,-1), epochs, batch_size)\n"
   ]
  },
  {
   "cell_type": "code",
   "execution_count": 119,
   "metadata": {},
   "outputs": [
    {
     "data": {
      "text/plain": [
       "Text(0, 0.5, 'Loss')"
      ]
     },
     "execution_count": 119,
     "metadata": {},
     "output_type": "execute_result"
    },
    {
     "data": {
      "image/png": "[encoded data removed]",
      "text/plain": [
       "<Figure size 432x288 with 1 Axes>"
      ]
     },
     "metadata": {
      "needs_background": "light"
     },
     "output_type": "display_data"
    }
   ],
   "source": [
    "plt.plot(range(epochs),loss)\n",
    "plt.xlabel(\"Epochs\")\n",
    "plt.ylabel(\"Loss\")"
   ]
  },
  {
   "cell_type": "code",
   "execution_count": null,
   "metadata": {},
   "outputs": [],
   "source": []
  },
  {
   "cell_type": "code",
   "execution_count": null,
   "metadata": {},
   "outputs": [],
   "source": []
  }
 ],
 "metadata": {
  "colab": {
   "name": "DL Assignment 1",
   "provenance": []
  },
  "kernelspec": {
   "display_name": "Python 3",
   "language": "python",
   "name": "python3"
  },
  "language_info": {
   "codemirror_mode": {
    "name": "ipython",
    "version": 3
   },
   "file_extension": ".py",
   "mimetype": "text/x-python",
   "name": "python",
   "nbconvert_exporter": "python",
   "pygments_lexer": "ipython3",
   "version": "3.8.8"
  }
 },
 "nbformat": 4,
 "nbformat_minor": 1
}
